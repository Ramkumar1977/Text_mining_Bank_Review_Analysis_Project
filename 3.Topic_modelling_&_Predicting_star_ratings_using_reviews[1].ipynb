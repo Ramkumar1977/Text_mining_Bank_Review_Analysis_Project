{
 "cells": [
  {
   "cell_type": "markdown",
   "metadata": {},
   "source": [
    "# Topic modelling"
   ]
  },
  {
   "cell_type": "markdown",
   "metadata": {},
   "source": [
    "# Importing Libraries"
   ]
  },
  {
   "cell_type": "code",
   "execution_count": 1,
   "metadata": {},
   "outputs": [
    {
     "data": {
      "text/plain": [
       "<Figure size 432x216 with 0 Axes>"
      ]
     },
     "metadata": {},
     "output_type": "display_data"
    }
   ],
   "source": [
    "import numpy as np\n",
    "import pandas as pd\n",
    "from pandas import Series, DataFrame\n",
    "import pandas_profiling\n",
    "import scipy.stats as stats\n",
    "\n",
    "import seaborn as sns\n",
    "import matplotlib.pyplot as plt\n",
    "%matplotlib inline\n",
    "\n",
    "plt.rc(\"font\", size=14)\n",
    "plt.rcParams['axes.grid'] = True\n",
    "plt.figure(figsize=(6,3))\n",
    "plt.gray()\n",
    "\n",
    "from matplotlib.backends.backend_pdf import PdfPages\n",
    "\n",
    "import statsmodels.formula.api as sm\n",
    "\n",
    "from sklearn.linear_model import LogisticRegression\n",
    "from sklearn.model_selection import train_test_split\n",
    "from sklearn import metrics\n",
    "\n",
    "from statsmodels.stats.outliers_influence import variance_inflation_factor\n",
    "from patsy import dmatrices"
   ]
  },
  {
   "cell_type": "code",
   "execution_count": 2,
   "metadata": {},
   "outputs": [],
   "source": [
    "import logging\n",
    "from numbers import Integral\n",
    "\n",
    "import numpy as np\n",
    "\n",
    "from matplotlib import rcParams\n",
    "from matplotlib import backends, docstring, projections\n",
    "from matplotlib import __version__ as _mpl_version\n",
    "from matplotlib import get_backend\n",
    "\n",
    "import matplotlib.artist as martist\n",
    "from matplotlib.artist import Artist, allow_rasterization\n",
    "from matplotlib.backend_bases import FigureCanvasBase\n",
    "import matplotlib.cbook as cbook\n",
    "import matplotlib.colorbar as cbar\n",
    "import matplotlib.image as mimage\n",
    "\n",
    "from matplotlib.axes import Axes, SubplotBase, subplot_class_factory\n",
    "from matplotlib.blocking_input import BlockingMouseInput, BlockingKeyMouseInput\n",
    "from matplotlib.gridspec import GridSpec\n",
    "import matplotlib.legend as mlegend\n",
    "from matplotlib.patches import Rectangle\n",
    "from matplotlib.projections import (get_projection_names,\n",
    "                                    process_projection_requirements)\n",
    "from matplotlib.text import Text, TextWithDash\n",
    "from matplotlib.transforms import (Affine2D, Bbox, BboxTransformTo,\n",
    "                                   TransformedBbox)\n",
    "import matplotlib._layoutbox as layoutbox\n",
    "from matplotlib.backend_bases import NonGuiException"
   ]
  },
  {
   "cell_type": "code",
   "execution_count": 3,
   "metadata": {},
   "outputs": [],
   "source": [
    "import logging\n",
    "import pandas as pd\n",
    "import numpy as np\n",
    "from numpy import random\n",
    "import gensim\n",
    "import nltk\n",
    "from sklearn.model_selection import train_test_split\n",
    "from sklearn.feature_extraction.text import CountVectorizer, TfidfVectorizer\n",
    "from sklearn.metrics import accuracy_score, confusion_matrix\n",
    "import matplotlib.pyplot as plt\n",
    "from nltk.corpus import stopwords\n",
    "import re\n",
    "from bs4 import BeautifulSoup\n",
    "\n",
    "%matplotlib inline"
   ]
  },
  {
   "cell_type": "code",
   "execution_count": 4,
   "metadata": {},
   "outputs": [
    {
     "name": "stderr",
     "output_type": "stream",
     "text": [
      "Using TensorFlow backend.\n"
     ]
    }
   ],
   "source": [
    "import os\n",
    "import pandas as pd\n",
    "import numpy as np\n",
    "from sklearn.model_selection import train_test_split\n",
    "import nltk\n",
    "from nltk.corpus import RegexpTokenizer as regextoken\n",
    "from nltk.corpus import stopwords\n",
    "from nltk import FreqDist, bigrams, trigrams\n",
    "from nltk import WordNetLemmatizer\n",
    "import matplotlib\n",
    "from matplotlib import pyplot as plt\n",
    "import seaborn as sns\n",
    "%matplotlib inline\n",
    "from keras.preprocessing.text import Tokenizer\n",
    "from sklearn.preprocessing import LabelEncoder\n",
    "from keras.utils import to_categorical\n",
    "from keras.preprocessing.sequence import pad_sequences\n",
    "import gensim\n",
    "from gensim.models.keyedvectors import KeyedVectors\n",
    "from keras.models import Sequential\n",
    "from keras.models import Model\n",
    "from keras.layers import Dense, Flatten, Embedding, Conv1D, MaxPooling1D, Dropout, LSTM, GRU\n",
    "from keras.regularizers import l1, l2\n",
    "from sklearn.metrics import classification_report\n",
    "import warnings"
   ]
  },
  {
   "cell_type": "code",
   "execution_count": 5,
   "metadata": {},
   "outputs": [],
   "source": [
    "import pandas as pd\n",
    "import numpy as np\n",
    "from scipy.stats import randint\n",
    "import seaborn as sns # used for plot interactive graph. \n",
    "import matplotlib.pyplot as plt\n",
    "import seaborn as sns\n",
    "from io import StringIO\n",
    "from sklearn.feature_extraction.text import TfidfVectorizer\n",
    "from sklearn.feature_selection import chi2\n",
    "from IPython.display import display\n",
    "from sklearn.model_selection import train_test_split\n",
    "from sklearn.feature_extraction.text import TfidfTransformer\n",
    "from sklearn.naive_bayes import MultinomialNB\n",
    "from sklearn.linear_model import LogisticRegression\n",
    "from sklearn.ensemble import RandomForestClassifier\n",
    "from sklearn.svm import LinearSVC\n",
    "from sklearn.model_selection import cross_val_score\n",
    "from sklearn.metrics import confusion_matrix\n",
    "from sklearn import metrics\n",
    "#import warnings\n",
    "#warnings.filterwarnings(\"ignore\", category=FutureWarning)"
   ]
  },
  {
   "cell_type": "code",
   "execution_count": 6,
   "metadata": {},
   "outputs": [],
   "source": [
    "#import required packages\n",
    "#basics\n",
    "import pandas as pd \n",
    "import numpy as np\n",
    "\n",
    "#misc\n",
    "import gc\n",
    "import time\n",
    "import warnings\n",
    "\n",
    "#stats\n",
    "#from scipy.misc import imread\n",
    "from scipy import sparse\n",
    "import scipy.stats as ss\n",
    "\n",
    "#viz\n",
    "import matplotlib.pyplot as plt\n",
    "import matplotlib.gridspec as gridspec \n",
    "import seaborn as sns\n",
    "from wordcloud import WordCloud ,STOPWORDS\n",
    "from PIL import Image\n",
    "#import matplotlib_venn as venn\n",
    "\n",
    "#nlp\n",
    "import string\n",
    "import re    #for regex\n",
    "import nltk\n",
    "from nltk.corpus import stopwords\n",
    "\n",
    "#import spacy\n",
    "from nltk import pos_tag\n",
    "from nltk.stem.wordnet import WordNetLemmatizer \n",
    "from nltk.tokenize import word_tokenize\n",
    "\n",
    "# Tweet tokenizer does not split at apostophes which is what we want\n",
    "from nltk.tokenize import TweetTokenizer   \n",
    "\n",
    "\n",
    "#FeatureEngineering\n",
    "from sklearn.feature_extraction.text import TfidfVectorizer, CountVectorizer, HashingVectorizer, TfidfTransformer\n",
    "from sklearn.decomposition import TruncatedSVD\n",
    "from sklearn.base import BaseEstimator, ClassifierMixin\n",
    "from sklearn.utils.validation import check_X_y, check_is_fitted\n",
    "from sklearn import model_selection, preprocessing, linear_model, naive_bayes, metrics, svm, decomposition, ensemble\n",
    "from sklearn.linear_model import LogisticRegression\n",
    "from sklearn.metrics import log_loss\n",
    "from sklearn.model_selection import StratifiedKFold\n",
    "from sklearn.model_selection import train_test_split\n",
    "\n",
    "import  textblob\n",
    "#import xgboost\n",
    "from keras.preprocessing import text, sequence\n",
    "from keras import layers, models, optimizers\n",
    "\n",
    "from textblob import TextBlob\n",
    "from nltk.stem import PorterStemmer\n",
    "import nltk\n",
    "#nltk.download('wordnet')\n",
    "from textblob import Word\n",
    "\n",
    "#settings\n",
    "start_time=time.time()\n",
    "color = sns.color_palette()\n",
    "sns.set_style(\"dark\")\n",
    "eng_stopwords = set(stopwords.words(\"english\"))\n",
    "warnings.filterwarnings(\"ignore\")\n",
    "\n",
    "lem = WordNetLemmatizer()\n",
    "tokenizer=TweetTokenizer()\n",
    "\n",
    "%matplotlib inline"
   ]
  },
  {
   "cell_type": "code",
   "execution_count": 7,
   "metadata": {},
   "outputs": [
    {
     "data": {
      "text/html": [
       "<div>\n",
       "<style scoped>\n",
       "    .dataframe tbody tr th:only-of-type {\n",
       "        vertical-align: middle;\n",
       "    }\n",
       "\n",
       "    .dataframe tbody tr th {\n",
       "        vertical-align: top;\n",
       "    }\n",
       "\n",
       "    .dataframe thead th {\n",
       "        text-align: right;\n",
       "    }\n",
       "</style>\n",
       "<table border=\"1\" class=\"dataframe\">\n",
       "  <thead>\n",
       "    <tr style=\"text-align: right;\">\n",
       "      <th></th>\n",
       "      <th>Date</th>\n",
       "      <th>Stars</th>\n",
       "      <th>Reviews</th>\n",
       "      <th>BankName</th>\n",
       "    </tr>\n",
       "  </thead>\n",
       "  <tbody>\n",
       "    <tr>\n",
       "      <th>0</th>\n",
       "      <td>2017-04-10</td>\n",
       "      <td>5</td>\n",
       "      <td>Great job, Wyndham Capital! Each person was pr...</td>\n",
       "      <td>Wyndham Capital Mortgage</td>\n",
       "    </tr>\n",
       "    <tr>\n",
       "      <th>1</th>\n",
       "      <td>2017-02-10</td>\n",
       "      <td>5</td>\n",
       "      <td>Matthew Richardson is professional and helpful...</td>\n",
       "      <td>Wyndham Capital Mortgage</td>\n",
       "    </tr>\n",
       "    <tr>\n",
       "      <th>2</th>\n",
       "      <td>2017-08-21</td>\n",
       "      <td>5</td>\n",
       "      <td>We had a past experience with Wyndham Mortgage...</td>\n",
       "      <td>Wyndham Capital Mortgage</td>\n",
       "    </tr>\n",
       "    <tr>\n",
       "      <th>3</th>\n",
       "      <td>2017-12-17</td>\n",
       "      <td>5</td>\n",
       "      <td>We have been dealing with Brad Thomka from the...</td>\n",
       "      <td>Wyndham Capital Mortgage</td>\n",
       "    </tr>\n",
       "    <tr>\n",
       "      <th>4</th>\n",
       "      <td>2016-05-27</td>\n",
       "      <td>5</td>\n",
       "      <td>I can't express how grateful I am for the supp...</td>\n",
       "      <td>Wyndham Capital Mortgage</td>\n",
       "    </tr>\n",
       "    <tr>\n",
       "      <th>...</th>\n",
       "      <td>...</td>\n",
       "      <td>...</td>\n",
       "      <td>...</td>\n",
       "      <td>...</td>\n",
       "    </tr>\n",
       "    <tr>\n",
       "      <th>500</th>\n",
       "      <td>2016-02-06</td>\n",
       "      <td>1</td>\n",
       "      <td>\\r\\nI never write reviews but had to this time...</td>\n",
       "      <td>North American Savings Bank</td>\n",
       "    </tr>\n",
       "    <tr>\n",
       "      <th>501</th>\n",
       "      <td>2016-07-25</td>\n",
       "      <td>1</td>\n",
       "      <td>\\r\\nIt all started when Bob G ran a credit che...</td>\n",
       "      <td>North American Savings Bank</td>\n",
       "    </tr>\n",
       "    <tr>\n",
       "      <th>502</th>\n",
       "      <td>2017-09-27</td>\n",
       "      <td>1</td>\n",
       "      <td>\\r\\nWhat a horrible experience. We have excell...</td>\n",
       "      <td>North American Savings Bank</td>\n",
       "    </tr>\n",
       "    <tr>\n",
       "      <th>503</th>\n",
       "      <td>2017-12-24</td>\n",
       "      <td>1</td>\n",
       "      <td>\\r\\nRep was extremely professional, friendly, ...</td>\n",
       "      <td>North American Savings Bank</td>\n",
       "    </tr>\n",
       "    <tr>\n",
       "      <th>504</th>\n",
       "      <td>2017-03-19</td>\n",
       "      <td>1</td>\n",
       "      <td>\\r\\nI was working with a loan consultant from ...</td>\n",
       "      <td>North American Savings Bank</td>\n",
       "    </tr>\n",
       "  </tbody>\n",
       "</table>\n",
       "<p>505 rows × 4 columns</p>\n",
       "</div>"
      ],
      "text/plain": [
       "          Date  Stars                                            Reviews  \\\n",
       "0   2017-04-10      5  Great job, Wyndham Capital! Each person was pr...   \n",
       "1   2017-02-10      5  Matthew Richardson is professional and helpful...   \n",
       "2   2017-08-21      5  We had a past experience with Wyndham Mortgage...   \n",
       "3   2017-12-17      5  We have been dealing with Brad Thomka from the...   \n",
       "4   2016-05-27      5  I can't express how grateful I am for the supp...   \n",
       "..         ...    ...                                                ...   \n",
       "500 2016-02-06      1  \\r\\nI never write reviews but had to this time...   \n",
       "501 2016-07-25      1  \\r\\nIt all started when Bob G ran a credit che...   \n",
       "502 2017-09-27      1  \\r\\nWhat a horrible experience. We have excell...   \n",
       "503 2017-12-24      1  \\r\\nRep was extremely professional, friendly, ...   \n",
       "504 2017-03-19      1  \\r\\nI was working with a loan consultant from ...   \n",
       "\n",
       "                        BankName  \n",
       "0       Wyndham Capital Mortgage  \n",
       "1       Wyndham Capital Mortgage  \n",
       "2       Wyndham Capital Mortgage  \n",
       "3       Wyndham Capital Mortgage  \n",
       "4       Wyndham Capital Mortgage  \n",
       "..                           ...  \n",
       "500  North American Savings Bank  \n",
       "501  North American Savings Bank  \n",
       "502  North American Savings Bank  \n",
       "503  North American Savings Bank  \n",
       "504  North American Savings Bank  \n",
       "\n",
       "[505 rows x 4 columns]"
      ]
     },
     "execution_count": 7,
     "metadata": {},
     "output_type": "execute_result"
    }
   ],
   "source": [
    "TEXT = pd.read_excel(\"C:\\\\Users\\\\RAMKUMAR\\\\Desktop\\\\BankReviews.xlsx\",header=0,encoding = 'unicode_escape')\n",
    "TEXT"
   ]
  },
  {
   "cell_type": "markdown",
   "metadata": {},
   "source": [
    "# Topic modelling\n",
    "\n",
    "Topic modeling is a type of statistical modeling for discovering the abstract “topics” that occur in a collection of documents.\n",
    "\n",
    "Latent Dirichlet Allocation (LDA) is an example of topic model and is used to classify text in a document to a particular topic. \n",
    "\n",
    "It builds a topic per document model and words per topic model, modeled as Dirichlet distributions.\n",
    "\n",
    "Here we are going to apply LDA to a set of documents and split them into topics."
   ]
  },
  {
   "cell_type": "code",
   "execution_count": 8,
   "metadata": {},
   "outputs": [],
   "source": [
    "import pandas as pd\n",
    "TEXT = pd.read_excel(\"C:\\\\Users\\\\RAMKUMAR\\\\Desktop\\\\BankReviews.xlsx\",error_bad_lines=False)\n",
    "TEXT\n",
    "data_text = TEXT[['Reviews']]\n",
    "data_text['index'] = data_text.index\n",
    "documents = data_text"
   ]
  },
  {
   "cell_type": "markdown",
   "metadata": {},
   "source": [
    "# Data Pre-processing\n",
    "\n",
    "We will perform the following steps:\n",
    "\n",
    "Tokenization: Split the text into sentences and the sentences into words. Lowercase the words and remove punctuation.\n",
    "\n",
    "Words that have fewer than 3 characters are removed.\n",
    "\n",
    "All stopwords are removed.\n",
    "\n",
    "Words are lemmatized — words in third person are changed to first person and verbs in past and future tenses are changed into present.\n",
    "\n",
    "Words are stemmed — words are reduced to their root form.\n",
    "\n",
    "Loading gensim and nltk libraries\n",
    "\n"
   ]
  },
  {
   "cell_type": "code",
   "execution_count": 9,
   "metadata": {},
   "outputs": [
    {
     "name": "stderr",
     "output_type": "stream",
     "text": [
      "[nltk_data] Downloading package wordnet to\n",
      "[nltk_data]     C:\\Users\\RAMKUMAR\\AppData\\Roaming\\nltk_data...\n",
      "[nltk_data]   Package wordnet is already up-to-date!\n"
     ]
    },
    {
     "data": {
      "text/plain": [
       "True"
      ]
     },
     "execution_count": 9,
     "metadata": {},
     "output_type": "execute_result"
    }
   ],
   "source": [
    "import gensim\n",
    "from gensim.utils import simple_preprocess\n",
    "from gensim.parsing.preprocessing import STOPWORDS\n",
    "from nltk.stem import WordNetLemmatizer, SnowballStemmer\n",
    "from nltk.stem.porter import *\n",
    "import numpy as np\n",
    "np.random.seed(2018)\n",
    "import nltk\n",
    "nltk.download('wordnet')"
   ]
  },
  {
   "cell_type": "markdown",
   "metadata": {},
   "source": [
    "# A function to perform lemmatize and stem preprocessing steps on the data set.\n"
   ]
  },
  {
   "cell_type": "code",
   "execution_count": 10,
   "metadata": {},
   "outputs": [],
   "source": [
    "def lemmatize_stemming(text):\n",
    "    return nltk.stem.WordNetLemmatizer().lemmatize(text, pos='v')\n",
    "def preprocess(text):\n",
    "    result = []\n",
    "    for token in gensim.utils.simple_preprocess(text):\n",
    "        if token not in gensim.parsing.preprocessing.STOPWORDS and len(token) > 3:\n",
    "            result.append(lemmatize_stemming(token))\n",
    "    return result"
   ]
  },
  {
   "cell_type": "markdown",
   "metadata": {},
   "source": [
    "# Select a document to preview after preprocessing."
   ]
  },
  {
   "cell_type": "code",
   "execution_count": 11,
   "metadata": {},
   "outputs": [
    {
     "name": "stdout",
     "output_type": "stream",
     "text": [
      "TEXT: \n",
      "['\\r\\nI', 'was', 'working', 'with', 'a', 'loan', 'consultant', 'from', 'NASB', 'and', 'she', 'told', 'me', 'that', 'she', 'would', 'give', 'me', 'a', 'rate', 'of', '4.875%', 'for', 'a', '30', 'year', 'fixed', 'loan', 'with', 'a', 'total', 'closing', 'cost', 'of', '$2300.', 'I', 'asked', 'her', 'to', 'send', 'me', 'the', 'good', 'faith', 'estimate.', 'The', 'good', 'faith', 'estimate', 'came', 'with', 'a', 'total', 'closing', 'cost', 'of', '$2929', 'which', 'is', 'about', '$600', 'more', 'than', 'she', 'mentioned', 'during', 'our', 'conversation.', 'When', 'I', 'called', 'her', 'for', 'explanation', 'of', 'the', 'extra', '$600', 'she', 'said', 'that', 'there', 'is', 'a', 'state', 'tax', '545.10', 'which', 'she', 'was', 'not', 'aware', 'of.', 'What', 'an', 'explanation!!!!', 'She', 'knew', 'my', 'state', 'from', 'the', 'beginning', 'and', 'I', 'repeatedly', 'asked', 'her', 'for', 'a', \"'TOTAL'\", 'closing', 'cost', 'and', 'that', 'time', 'she', 'repeatedly', 'said', 'it', 'will', 'be', '$2300.', 'As', 'a', 'loan', 'consultant', 'she', 'should', 'have', 'known', 'that', 'there', 'is', 'something', 'like', 'a', \"'STATE\", \"TAX'\", 'that', 'might', 'come', 'later', 'and', 'should', 'have', 'mentioned', 'that', 'to', 'me.', 'I', 'am', 'not', 'supposed', 'to', 'know', 'what', 'are', 'the', 'different', 'compoents/fees', 'or', 'taxes', 'that', 'apply', 'during', 'closing.', 'She', 'does', 'this', 'everyday', 'and', 'she', 'could', 'have', 'been', 'honest', 'with', 'me', 'from', 'the', 'beginning.', 'I', 'expected', 'honest', 'communication', 'from', 'a', 'loan', 'consultant', 'from', 'NASB', 'bank', 'and', 'I', 'did', 'not', 'receive', 'that.', 'I', 'am', 'very', 'disappointed...', 'Read', 'More\\r\\n', '', '', '', '', '', '', '', '']\n",
      "\n",
      "\n",
      " tokenized and lemmatized document: \n",
      "['work', 'loan', 'consultant', 'nasb', 'tell', 'rate', 'year', 'fix', 'loan', 'total', 'close', 'cost', 'ask', 'send', 'good', 'faith', 'estimate', 'good', 'faith', 'estimate', 'come', 'total', 'close', 'cost', 'mention', 'conversation', 'call', 'explanation', 'extra', 'say', 'state', 'aware', 'explanation', 'know', 'state', 'begin', 'repeatedly', 'ask', 'total', 'close', 'cost', 'time', 'repeatedly', 'say', 'loan', 'consultant', 'know', 'like', 'state', 'come', 'later', 'mention', 'suppose', 'know', 'different', 'compoents', 'fee', 'tax', 'apply', 'close', 'everyday', 'honest', 'begin', 'expect', 'honest', 'communication', 'loan', 'consultant', 'nasb', 'bank', 'receive', 'disappoint', 'read']\n"
     ]
    }
   ],
   "source": [
    "doc_sample = documents[documents['index'] == 504].values[0][0]\n",
    "print('TEXT: ')\n",
    "words = []\n",
    "for word in doc_sample.split(' '):\n",
    "    words.append(word)\n",
    "print(words)\n",
    "print('\\n\\n tokenized and lemmatized document: ')\n",
    "print(preprocess(doc_sample))"
   ]
  },
  {
   "cell_type": "markdown",
   "metadata": {},
   "source": [
    "# Preprocess the headline text, saving the results as ‘processed_docs’¶"
   ]
  },
  {
   "cell_type": "code",
   "execution_count": 12,
   "metadata": {},
   "outputs": [
    {
     "data": {
      "text/plain": [
       "0    [great, wyndham, capital, person, professional...\n",
       "1    [matthew, richardson, professional, helpful, h...\n",
       "2    [past, experience, wyndham, mortgage, question...\n",
       "3    [deal, brad, thomka, begin, start, stressful, ...\n",
       "4    [express, grateful, support, zach, provide, fa...\n",
       "5    [pleasure, work, wyndham, capital, september, ...\n",
       "6    [experience, mattison, greatly, professionally...\n",
       "7    [patrick, answer, question, email, immediately...\n",
       "8    [love, work, group, people, laugh, phone, answ...\n",
       "9    [great, interface, loan, application, document...\n",
       "Name: Reviews, dtype: object"
      ]
     },
     "execution_count": 12,
     "metadata": {},
     "output_type": "execute_result"
    }
   ],
   "source": [
    "processed_docs = TEXT['Reviews'].map(preprocess)\n",
    "processed_docs[:10]"
   ]
  },
  {
   "cell_type": "markdown",
   "metadata": {},
   "source": [
    "# Bag of Words on the Data set\n",
    "Create a dictionary from ‘processed_docs’ containing the number of times a word appears in the training set."
   ]
  },
  {
   "cell_type": "code",
   "execution_count": 13,
   "metadata": {},
   "outputs": [
    {
     "name": "stdout",
     "output_type": "stream",
     "text": [
      "0 capital\n",
      "1 great\n",
      "2 help\n",
      "3 person\n",
      "4 process\n",
      "5 professional\n",
      "6 refinance\n",
      "7 smoothly\n",
      "8 thank\n",
      "9 wyndham\n",
      "10 correct\n"
     ]
    }
   ],
   "source": [
    "dictionary = gensim.corpora.Dictionary(processed_docs)\n",
    "count = 0\n",
    "for k, v in dictionary.iteritems():\n",
    "    print(k, v)\n",
    "    count += 1\n",
    "    if count > 10:\n",
    "        break"
   ]
  },
  {
   "cell_type": "markdown",
   "metadata": {},
   "source": [
    "# Gensim filter_extremes\n",
    "\n",
    "Filter out tokens that appear in\n",
    "\n",
    "less than 15 documents (absolute number) or\n",
    "\n",
    "more than 0.5 documents (fraction of total corpus size, not absolute number).\n",
    "\n",
    "After the above two steps, keep only the first 100000 most frequent tokens."
   ]
  },
  {
   "cell_type": "code",
   "execution_count": 14,
   "metadata": {},
   "outputs": [],
   "source": [
    "dictionary.filter_extremes(no_below=15, no_above=0.5, keep_n=100000)"
   ]
  },
  {
   "cell_type": "markdown",
   "metadata": {},
   "source": [
    "# Gensim doc2bow\n",
    "\n",
    "For each document we create a dictionary reporting how many words and how many times those words appear. \n",
    "Save this to ‘bow_corpus’, then check our selected document earlier."
   ]
  },
  {
   "cell_type": "code",
   "execution_count": 15,
   "metadata": {},
   "outputs": [
    {
     "data": {
      "text/plain": [
       "[(12, 1),\n",
       " (15, 4),\n",
       " (23, 2),\n",
       " (28, 1),\n",
       " (36, 1),\n",
       " (38, 4),\n",
       " (39, 1),\n",
       " (53, 1),\n",
       " (65, 1),\n",
       " (67, 1),\n",
       " (82, 3),\n",
       " (92, 2),\n",
       " (93, 1),\n",
       " (94, 1),\n",
       " (96, 1),\n",
       " (97, 1),\n",
       " (100, 1),\n",
       " (102, 2),\n",
       " (105, 2),\n",
       " (115, 2),\n",
       " (116, 1),\n",
       " (122, 2),\n",
       " (127, 3),\n",
       " (141, 1),\n",
       " (162, 1),\n",
       " (169, 1)]"
      ]
     },
     "execution_count": 15,
     "metadata": {},
     "output_type": "execute_result"
    }
   ],
   "source": [
    "bow_corpus = [dictionary.doc2bow(doc) for doc in processed_docs]\n",
    "bow_corpus[504]"
   ]
  },
  {
   "cell_type": "markdown",
   "metadata": {},
   "source": [
    "# Preview Bag Of Words for our sample preprocessed document."
   ]
  },
  {
   "cell_type": "code",
   "execution_count": 16,
   "metadata": {},
   "outputs": [
    {
     "name": "stdout",
     "output_type": "stream",
     "text": [
      "Word 12 (\"extra\") appears 1 time.\n",
      "Word 15 (\"loan\") appears 4 time.\n",
      "Word 23 (\"begin\") appears 2 time.\n",
      "Word 28 (\"time\") appears 1 time.\n",
      "Word 36 (\"work\") appears 1 time.\n",
      "Word 38 (\"close\") appears 4 time.\n",
      "Word 39 (\"communication\") appears 1 time.\n",
      "Word 53 (\"later\") appears 1 time.\n",
      "Word 65 (\"tell\") appears 1 time.\n",
      "Word 67 (\"call\") appears 1 time.\n",
      "Word 82 (\"know\") appears 3 time.\n",
      "Word 92 (\"say\") appears 2 time.\n",
      "Word 93 (\"bank\") appears 1 time.\n",
      "Word 94 (\"rate\") appears 1 time.\n",
      "Word 96 (\"different\") appears 1 time.\n",
      "Word 97 (\"like\") appears 1 time.\n",
      "Word 100 (\"send\") appears 1 time.\n",
      "Word 102 (\"good\") appears 2 time.\n",
      "Word 105 (\"ask\") appears 2 time.\n",
      "Word 115 (\"nasb\") appears 2 time.\n",
      "Word 116 (\"fee\") appears 1 time.\n",
      "Word 122 (\"come\") appears 2 time.\n",
      "Word 127 (\"cost\") appears 3 time.\n",
      "Word 141 (\"receive\") appears 1 time.\n",
      "Word 162 (\"read\") appears 1 time.\n",
      "Word 169 (\"expect\") appears 1 time.\n"
     ]
    }
   ],
   "source": [
    "bow_doc_504 = bow_corpus[504]\n",
    "for i in range(len(bow_doc_504)):\n",
    "    print(\"Word {} (\\\"{}\\\") appears {} time.\".format(bow_doc_504[i][0], \n",
    "                                               dictionary[bow_doc_504[i][0]], \n",
    "bow_doc_504[i][1]))"
   ]
  },
  {
   "cell_type": "markdown",
   "metadata": {},
   "source": [
    "# TF-IDF\n",
    "\n",
    "Create tf-idf model object using models.\n",
    "TfidfModel on ‘bow_corpus’ and save it to ‘tfidf’, then apply transformation to the entire corpus and call it ‘corpus_tfidf’. \n",
    "Finally we preview TF-IDF scores for our first document."
   ]
  },
  {
   "cell_type": "code",
   "execution_count": 17,
   "metadata": {},
   "outputs": [
    {
     "name": "stdout",
     "output_type": "stream",
     "text": [
      "[(0, 0.3658896514392935),\n",
      " (1, 0.4650823399832199),\n",
      " (2, 0.23153098404723194),\n",
      " (3, 0.49220925613324934),\n",
      " (4, 0.44652725076007543),\n",
      " (5, 0.3931412544326623)]\n"
     ]
    }
   ],
   "source": [
    "from gensim import corpora, models\n",
    "tfidf = models.TfidfModel(bow_corpus)\n",
    "corpus_tfidf = tfidf[bow_corpus]\n",
    "from pprint import pprint\n",
    "for doc in corpus_tfidf:\n",
    "    pprint(doc)\n",
    "    break"
   ]
  },
  {
   "cell_type": "markdown",
   "metadata": {},
   "source": [
    "# Running LDA using Bag of Words\n",
    "\n",
    "Train our lda model using gensim.models.LdaMulticore and save it to ‘lda_model’"
   ]
  },
  {
   "cell_type": "code",
   "execution_count": 18,
   "metadata": {},
   "outputs": [
    {
     "name": "stderr",
     "output_type": "stream",
     "text": [
      "WARNING: Logging before flag parsing goes to stderr.\n",
      "W1219 18:08:42.120561  5712 ldamulticore.py:248] too few updates, training might not converge; consider increasing the number of passes or iterations to improve accuracy\n"
     ]
    }
   ],
   "source": [
    "lda_model = gensim.models.LdaMulticore(bow_corpus, num_topics=10, id2word=dictionary, passes=2, workers=2)"
   ]
  },
  {
   "cell_type": "markdown",
   "metadata": {},
   "source": [
    "# For each topic, we will explore the words occuring in that topic and its relative weight."
   ]
  },
  {
   "cell_type": "code",
   "execution_count": 19,
   "metadata": {},
   "outputs": [
    {
     "name": "stdout",
     "output_type": "stream",
     "text": [
      "Topic: 0 \n",
      "Words: 0.044*\"alex\" + 0.044*\"work\" + 0.032*\"loan\" + 0.029*\"process\" + 0.027*\"responsive\" + 0.024*\"read\" + 0.023*\"company\" + 0.021*\"go\" + 0.018*\"pacific\" + 0.017*\"close\"\n",
      "Topic: 1 \n",
      "Words: 0.038*\"question\" + 0.036*\"refinance\" + 0.030*\"rate\" + 0.030*\"want\" + 0.023*\"say\" + 0.021*\"house\" + 0.020*\"process\" + 0.019*\"loan\" + 0.019*\"thank\" + 0.019*\"happy\"\n",
      "Topic: 2 \n",
      "Words: 0.055*\"work\" + 0.046*\"helpful\" + 0.044*\"time\" + 0.036*\"help\" + 0.033*\"process\" + 0.027*\"better\" + 0.026*\"home\" + 0.026*\"appreciate\" + 0.025*\"rate\" + 0.024*\"great\"\n",
      "Topic: 3 \n",
      "Words: 0.048*\"loan\" + 0.046*\"time\" + 0.045*\"work\" + 0.037*\"recommend\" + 0.032*\"close\" + 0.023*\"process\" + 0.021*\"read\" + 0.019*\"highly\" + 0.018*\"team\" + 0.017*\"great\"\n",
      "Topic: 4 \n",
      "Words: 0.097*\"close\" + 0.028*\"loan\" + 0.026*\"send\" + 0.022*\"mortgage\" + 0.021*\"check\" + 0.020*\"nasb\" + 0.020*\"read\" + 0.020*\"tell\" + 0.019*\"work\" + 0.019*\"rate\"\n",
      "Topic: 5 \n",
      "Words: 0.063*\"process\" + 0.041*\"great\" + 0.040*\"work\" + 0.028*\"loan\" + 0.027*\"close\" + 0.027*\"experience\" + 0.024*\"team\" + 0.022*\"question\" + 0.020*\"answer\" + 0.020*\"recommend\"\n",
      "Topic: 6 \n",
      "Words: 0.069*\"work\" + 0.032*\"step\" + 0.029*\"help\" + 0.029*\"know\" + 0.027*\"read\" + 0.027*\"go\" + 0.026*\"call\" + 0.022*\"sure\" + 0.022*\"mortgage\" + 0.020*\"dream\"\n",
      "Topic: 7 \n",
      "Words: 0.052*\"loan\" + 0.034*\"nasb\" + 0.032*\"email\" + 0.025*\"call\" + 0.021*\"service\" + 0.020*\"read\" + 0.020*\"bank\" + 0.019*\"time\" + 0.018*\"close\" + 0.017*\"process\"\n",
      "Topic: 8 \n",
      "Words: 0.033*\"adam\" + 0.030*\"rate\" + 0.028*\"question\" + 0.028*\"process\" + 0.027*\"read\" + 0.025*\"mortgage\" + 0.022*\"great\" + 0.021*\"recommend\" + 0.020*\"best\" + 0.020*\"guarantee\"\n",
      "Topic: 9 \n",
      "Words: 0.052*\"home\" + 0.040*\"loan\" + 0.039*\"process\" + 0.031*\"time\" + 0.026*\"work\" + 0.026*\"mortgage\" + 0.025*\"close\" + 0.023*\"bank\" + 0.021*\"read\" + 0.020*\"recommend\"\n"
     ]
    }
   ],
   "source": [
    "for idx, topic in lda_model.print_topics(-1):\n",
    "    print('Topic: {} \\nWords: {}'.format(idx, topic))"
   ]
  },
  {
   "cell_type": "markdown",
   "metadata": {},
   "source": [
    "# Running LDA using TF-IDF¶"
   ]
  },
  {
   "cell_type": "code",
   "execution_count": 20,
   "metadata": {},
   "outputs": [
    {
     "name": "stderr",
     "output_type": "stream",
     "text": [
      "W1219 18:08:46.538712  5712 ldamulticore.py:248] too few updates, training might not converge; consider increasing the number of passes or iterations to improve accuracy\n"
     ]
    },
    {
     "name": "stdout",
     "output_type": "stream",
     "text": [
      "Topic: 0 Word: 0.023*\"weeks\" + 0.023*\"home\" + 0.021*\"purchase\" + 0.020*\"close\" + 0.020*\"great\" + 0.019*\"company\" + 0.017*\"help\" + 0.016*\"recommend\" + 0.016*\"mortgage\" + 0.016*\"alex\"\n",
      "Topic: 1 Word: 0.023*\"family\" + 0.019*\"nasb\" + 0.019*\"excellent\" + 0.019*\"loan\" + 0.019*\"alex\" + 0.018*\"definitely\" + 0.018*\"process\" + 0.018*\"friends\" + 0.018*\"home\" + 0.018*\"team\"\n",
      "Topic: 2 Word: 0.031*\"professional\" + 0.026*\"timely\" + 0.025*\"help\" + 0.024*\"helpful\" + 0.023*\"quick\" + 0.022*\"great\" + 0.021*\"able\" + 0.021*\"adam\" + 0.020*\"process\" + 0.019*\"appreciate\"\n",
      "Topic: 3 Word: 0.022*\"nasb\" + 0.019*\"work\" + 0.018*\"time\" + 0.018*\"loan\" + 0.018*\"experience\" + 0.017*\"close\" + 0.017*\"team\" + 0.016*\"want\" + 0.016*\"extremely\" + 0.016*\"great\"\n",
      "Topic: 4 Word: 0.030*\"phone\" + 0.024*\"customer\" + 0.024*\"responsive\" + 0.023*\"service\" + 0.022*\"great\" + 0.022*\"say\" + 0.019*\"helpful\" + 0.019*\"send\" + 0.019*\"reliance\" + 0.018*\"lender\"\n",
      "Topic: 5 Word: 0.023*\"amaze\" + 0.021*\"couldn\" + 0.020*\"home\" + 0.020*\"process\" + 0.018*\"work\" + 0.017*\"thank\" + 0.017*\"pleasure\" + 0.016*\"help\" + 0.015*\"team\" + 0.014*\"real\"\n",
      "Topic: 6 Word: 0.020*\"nasb\" + 0.020*\"mortgage\" + 0.019*\"look\" + 0.018*\"alex\" + 0.017*\"bank\" + 0.016*\"best\" + 0.015*\"friendly\" + 0.015*\"loan\" + 0.014*\"lender\" + 0.014*\"lend\"\n",
      "Topic: 7 Word: 0.026*\"hard\" + 0.018*\"best\" + 0.017*\"work\" + 0.017*\"patient\" + 0.016*\"loan\" + 0.015*\"triumph\" + 0.015*\"care\" + 0.014*\"highly\" + 0.014*\"options\" + 0.014*\"step\"\n",
      "Topic: 8 Word: 0.030*\"responsive\" + 0.021*\"process\" + 0.020*\"keep\" + 0.020*\"knowledgeable\" + 0.019*\"great\" + 0.019*\"trust\" + 0.018*\"refinance\" + 0.017*\"best\" + 0.017*\"mortgage\" + 0.017*\"loan\"\n",
      "Topic: 9 Word: 0.023*\"good\" + 0.022*\"fast\" + 0.019*\"easy\" + 0.018*\"close\" + 0.018*\"quick\" + 0.015*\"rate\" + 0.015*\"time\" + 0.014*\"service\" + 0.014*\"helpful\" + 0.014*\"loan\"\n"
     ]
    }
   ],
   "source": [
    "lda_model_tfidf = gensim.models.LdaMulticore(corpus_tfidf, num_topics=10, id2word=dictionary, passes=2, workers=4)\n",
    "for idx, topic in lda_model_tfidf.print_topics(-1):\n",
    "    print('Topic: {} Word: {}'.format(idx, topic))"
   ]
  },
  {
   "cell_type": "markdown",
   "metadata": {},
   "source": [
    "# Testing model on unseen document"
   ]
  },
  {
   "cell_type": "code",
   "execution_count": 21,
   "metadata": {},
   "outputs": [
    {
     "name": "stdout",
     "output_type": "stream",
     "text": [
      "Score: 0.5499082803726196\t Topic: 0.038*\"question\" + 0.036*\"refinance\" + 0.030*\"rate\" + 0.030*\"want\" + 0.023*\"say\"\n",
      "Score: 0.050021231174468994\t Topic: 0.052*\"home\" + 0.040*\"loan\" + 0.039*\"process\" + 0.031*\"time\" + 0.026*\"work\"\n",
      "Score: 0.050019506365060806\t Topic: 0.033*\"adam\" + 0.030*\"rate\" + 0.028*\"question\" + 0.028*\"process\" + 0.027*\"read\"\n",
      "Score: 0.050018999725580215\t Topic: 0.048*\"loan\" + 0.046*\"time\" + 0.045*\"work\" + 0.037*\"recommend\" + 0.032*\"close\"\n",
      "Score: 0.05001237243413925\t Topic: 0.055*\"work\" + 0.046*\"helpful\" + 0.044*\"time\" + 0.036*\"help\" + 0.033*\"process\"\n",
      "Score: 0.05001192167401314\t Topic: 0.052*\"loan\" + 0.034*\"nasb\" + 0.032*\"email\" + 0.025*\"call\" + 0.021*\"service\"\n",
      "Score: 0.05000460892915726\t Topic: 0.063*\"process\" + 0.041*\"great\" + 0.040*\"work\" + 0.028*\"loan\" + 0.027*\"close\"\n",
      "Score: 0.05000167340040207\t Topic: 0.097*\"close\" + 0.028*\"loan\" + 0.026*\"send\" + 0.022*\"mortgage\" + 0.021*\"check\"\n",
      "Score: 0.05000070482492447\t Topic: 0.069*\"work\" + 0.032*\"step\" + 0.029*\"help\" + 0.029*\"know\" + 0.027*\"read\"\n",
      "Score: 0.05000070109963417\t Topic: 0.044*\"alex\" + 0.044*\"work\" + 0.032*\"loan\" + 0.029*\"process\" + 0.027*\"responsive\"\n"
     ]
    }
   ],
   "source": [
    "unseen_document = 'How a Pentagon deal became an identity crisis for Google'\n",
    "bow_vector = dictionary.doc2bow(preprocess(unseen_document))\n",
    "for index, score in sorted(lda_model[bow_vector], key=lambda tup: -1*tup[1]):\n",
    "    print(\"Score: {}\\t Topic: {}\".format(score, lda_model.print_topic(index, 5)))"
   ]
  },
  {
   "cell_type": "markdown",
   "metadata": {},
   "source": [
    "# Predicting star ratings using reviews"
   ]
  },
  {
   "cell_type": "code",
   "execution_count": 22,
   "metadata": {},
   "outputs": [
    {
     "data": {
      "text/html": [
       "<div>\n",
       "<style scoped>\n",
       "    .dataframe tbody tr th:only-of-type {\n",
       "        vertical-align: middle;\n",
       "    }\n",
       "\n",
       "    .dataframe tbody tr th {\n",
       "        vertical-align: top;\n",
       "    }\n",
       "\n",
       "    .dataframe thead th {\n",
       "        text-align: right;\n",
       "    }\n",
       "</style>\n",
       "<table border=\"1\" class=\"dataframe\">\n",
       "  <thead>\n",
       "    <tr style=\"text-align: right;\">\n",
       "      <th></th>\n",
       "      <th>Date</th>\n",
       "      <th>Stars</th>\n",
       "      <th>Reviews</th>\n",
       "      <th>BankName</th>\n",
       "    </tr>\n",
       "  </thead>\n",
       "  <tbody>\n",
       "    <tr>\n",
       "      <th>0</th>\n",
       "      <td>2017-04-10</td>\n",
       "      <td>5</td>\n",
       "      <td>Great job, Wyndham Capital! Each person was pr...</td>\n",
       "      <td>Wyndham Capital Mortgage</td>\n",
       "    </tr>\n",
       "    <tr>\n",
       "      <th>1</th>\n",
       "      <td>2017-02-10</td>\n",
       "      <td>5</td>\n",
       "      <td>Matthew Richardson is professional and helpful...</td>\n",
       "      <td>Wyndham Capital Mortgage</td>\n",
       "    </tr>\n",
       "    <tr>\n",
       "      <th>2</th>\n",
       "      <td>2017-08-21</td>\n",
       "      <td>5</td>\n",
       "      <td>We had a past experience with Wyndham Mortgage...</td>\n",
       "      <td>Wyndham Capital Mortgage</td>\n",
       "    </tr>\n",
       "    <tr>\n",
       "      <th>3</th>\n",
       "      <td>2017-12-17</td>\n",
       "      <td>5</td>\n",
       "      <td>We have been dealing with Brad Thomka from the...</td>\n",
       "      <td>Wyndham Capital Mortgage</td>\n",
       "    </tr>\n",
       "    <tr>\n",
       "      <th>4</th>\n",
       "      <td>2016-05-27</td>\n",
       "      <td>5</td>\n",
       "      <td>I can't express how grateful I am for the supp...</td>\n",
       "      <td>Wyndham Capital Mortgage</td>\n",
       "    </tr>\n",
       "    <tr>\n",
       "      <th>...</th>\n",
       "      <td>...</td>\n",
       "      <td>...</td>\n",
       "      <td>...</td>\n",
       "      <td>...</td>\n",
       "    </tr>\n",
       "    <tr>\n",
       "      <th>500</th>\n",
       "      <td>2016-02-06</td>\n",
       "      <td>1</td>\n",
       "      <td>\\r\\nI never write reviews but had to this time...</td>\n",
       "      <td>North American Savings Bank</td>\n",
       "    </tr>\n",
       "    <tr>\n",
       "      <th>501</th>\n",
       "      <td>2016-07-25</td>\n",
       "      <td>1</td>\n",
       "      <td>\\r\\nIt all started when Bob G ran a credit che...</td>\n",
       "      <td>North American Savings Bank</td>\n",
       "    </tr>\n",
       "    <tr>\n",
       "      <th>502</th>\n",
       "      <td>2017-09-27</td>\n",
       "      <td>1</td>\n",
       "      <td>\\r\\nWhat a horrible experience. We have excell...</td>\n",
       "      <td>North American Savings Bank</td>\n",
       "    </tr>\n",
       "    <tr>\n",
       "      <th>503</th>\n",
       "      <td>2017-12-24</td>\n",
       "      <td>1</td>\n",
       "      <td>\\r\\nRep was extremely professional, friendly, ...</td>\n",
       "      <td>North American Savings Bank</td>\n",
       "    </tr>\n",
       "    <tr>\n",
       "      <th>504</th>\n",
       "      <td>2017-03-19</td>\n",
       "      <td>1</td>\n",
       "      <td>\\r\\nI was working with a loan consultant from ...</td>\n",
       "      <td>North American Savings Bank</td>\n",
       "    </tr>\n",
       "  </tbody>\n",
       "</table>\n",
       "<p>505 rows × 4 columns</p>\n",
       "</div>"
      ],
      "text/plain": [
       "          Date  Stars                                            Reviews  \\\n",
       "0   2017-04-10      5  Great job, Wyndham Capital! Each person was pr...   \n",
       "1   2017-02-10      5  Matthew Richardson is professional and helpful...   \n",
       "2   2017-08-21      5  We had a past experience with Wyndham Mortgage...   \n",
       "3   2017-12-17      5  We have been dealing with Brad Thomka from the...   \n",
       "4   2016-05-27      5  I can't express how grateful I am for the supp...   \n",
       "..         ...    ...                                                ...   \n",
       "500 2016-02-06      1  \\r\\nI never write reviews but had to this time...   \n",
       "501 2016-07-25      1  \\r\\nIt all started when Bob G ran a credit che...   \n",
       "502 2017-09-27      1  \\r\\nWhat a horrible experience. We have excell...   \n",
       "503 2017-12-24      1  \\r\\nRep was extremely professional, friendly, ...   \n",
       "504 2017-03-19      1  \\r\\nI was working with a loan consultant from ...   \n",
       "\n",
       "                        BankName  \n",
       "0       Wyndham Capital Mortgage  \n",
       "1       Wyndham Capital Mortgage  \n",
       "2       Wyndham Capital Mortgage  \n",
       "3       Wyndham Capital Mortgage  \n",
       "4       Wyndham Capital Mortgage  \n",
       "..                           ...  \n",
       "500  North American Savings Bank  \n",
       "501  North American Savings Bank  \n",
       "502  North American Savings Bank  \n",
       "503  North American Savings Bank  \n",
       "504  North American Savings Bank  \n",
       "\n",
       "[505 rows x 4 columns]"
      ]
     },
     "execution_count": 22,
     "metadata": {},
     "output_type": "execute_result"
    }
   ],
   "source": [
    "TEXT = pd.read_excel(\"C:\\\\Users\\\\RAMKUMAR\\\\Desktop\\\\BankReviews.xlsx\",header=0,encoding = 'unicode_escape')\n",
    "TEXT"
   ]
  },
  {
   "cell_type": "code",
   "execution_count": 23,
   "metadata": {},
   "outputs": [
    {
     "data": {
      "text/html": [
       "<div>\n",
       "<style scoped>\n",
       "    .dataframe tbody tr th:only-of-type {\n",
       "        vertical-align: middle;\n",
       "    }\n",
       "\n",
       "    .dataframe tbody tr th {\n",
       "        vertical-align: top;\n",
       "    }\n",
       "\n",
       "    .dataframe thead th {\n",
       "        text-align: right;\n",
       "    }\n",
       "</style>\n",
       "<table border=\"1\" class=\"dataframe\">\n",
       "  <thead>\n",
       "    <tr style=\"text-align: right;\">\n",
       "      <th></th>\n",
       "      <th>Date</th>\n",
       "      <th>Stars</th>\n",
       "      <th>Reviews</th>\n",
       "      <th>BankName</th>\n",
       "    </tr>\n",
       "  </thead>\n",
       "  <tbody>\n",
       "    <tr>\n",
       "      <th>0</th>\n",
       "      <td>2017-04-10</td>\n",
       "      <td>five</td>\n",
       "      <td>Great job, Wyndham Capital! Each person was pr...</td>\n",
       "      <td>Wyndham Capital Mortgage</td>\n",
       "    </tr>\n",
       "    <tr>\n",
       "      <th>1</th>\n",
       "      <td>2017-02-10</td>\n",
       "      <td>five</td>\n",
       "      <td>Matthew Richardson is professional and helpful...</td>\n",
       "      <td>Wyndham Capital Mortgage</td>\n",
       "    </tr>\n",
       "    <tr>\n",
       "      <th>2</th>\n",
       "      <td>2017-08-21</td>\n",
       "      <td>five</td>\n",
       "      <td>We had a past experience with Wyndham Mortgage...</td>\n",
       "      <td>Wyndham Capital Mortgage</td>\n",
       "    </tr>\n",
       "    <tr>\n",
       "      <th>3</th>\n",
       "      <td>2017-12-17</td>\n",
       "      <td>five</td>\n",
       "      <td>We have been dealing with Brad Thomka from the...</td>\n",
       "      <td>Wyndham Capital Mortgage</td>\n",
       "    </tr>\n",
       "    <tr>\n",
       "      <th>4</th>\n",
       "      <td>2016-05-27</td>\n",
       "      <td>five</td>\n",
       "      <td>I can't express how grateful I am for the supp...</td>\n",
       "      <td>Wyndham Capital Mortgage</td>\n",
       "    </tr>\n",
       "    <tr>\n",
       "      <th>...</th>\n",
       "      <td>...</td>\n",
       "      <td>...</td>\n",
       "      <td>...</td>\n",
       "      <td>...</td>\n",
       "    </tr>\n",
       "    <tr>\n",
       "      <th>500</th>\n",
       "      <td>2016-02-06</td>\n",
       "      <td>one</td>\n",
       "      <td>\\r\\nI never write reviews but had to this time...</td>\n",
       "      <td>North American Savings Bank</td>\n",
       "    </tr>\n",
       "    <tr>\n",
       "      <th>501</th>\n",
       "      <td>2016-07-25</td>\n",
       "      <td>one</td>\n",
       "      <td>\\r\\nIt all started when Bob G ran a credit che...</td>\n",
       "      <td>North American Savings Bank</td>\n",
       "    </tr>\n",
       "    <tr>\n",
       "      <th>502</th>\n",
       "      <td>2017-09-27</td>\n",
       "      <td>one</td>\n",
       "      <td>\\r\\nWhat a horrible experience. We have excell...</td>\n",
       "      <td>North American Savings Bank</td>\n",
       "    </tr>\n",
       "    <tr>\n",
       "      <th>503</th>\n",
       "      <td>2017-12-24</td>\n",
       "      <td>one</td>\n",
       "      <td>\\r\\nRep was extremely professional, friendly, ...</td>\n",
       "      <td>North American Savings Bank</td>\n",
       "    </tr>\n",
       "    <tr>\n",
       "      <th>504</th>\n",
       "      <td>2017-03-19</td>\n",
       "      <td>one</td>\n",
       "      <td>\\r\\nI was working with a loan consultant from ...</td>\n",
       "      <td>North American Savings Bank</td>\n",
       "    </tr>\n",
       "  </tbody>\n",
       "</table>\n",
       "<p>505 rows × 4 columns</p>\n",
       "</div>"
      ],
      "text/plain": [
       "          Date Stars                                            Reviews  \\\n",
       "0   2017-04-10  five  Great job, Wyndham Capital! Each person was pr...   \n",
       "1   2017-02-10  five  Matthew Richardson is professional and helpful...   \n",
       "2   2017-08-21  five  We had a past experience with Wyndham Mortgage...   \n",
       "3   2017-12-17  five  We have been dealing with Brad Thomka from the...   \n",
       "4   2016-05-27  five  I can't express how grateful I am for the supp...   \n",
       "..         ...   ...                                                ...   \n",
       "500 2016-02-06   one  \\r\\nI never write reviews but had to this time...   \n",
       "501 2016-07-25   one  \\r\\nIt all started when Bob G ran a credit che...   \n",
       "502 2017-09-27   one  \\r\\nWhat a horrible experience. We have excell...   \n",
       "503 2017-12-24   one  \\r\\nRep was extremely professional, friendly, ...   \n",
       "504 2017-03-19   one  \\r\\nI was working with a loan consultant from ...   \n",
       "\n",
       "                        BankName  \n",
       "0       Wyndham Capital Mortgage  \n",
       "1       Wyndham Capital Mortgage  \n",
       "2       Wyndham Capital Mortgage  \n",
       "3       Wyndham Capital Mortgage  \n",
       "4       Wyndham Capital Mortgage  \n",
       "..                           ...  \n",
       "500  North American Savings Bank  \n",
       "501  North American Savings Bank  \n",
       "502  North American Savings Bank  \n",
       "503  North American Savings Bank  \n",
       "504  North American Savings Bank  \n",
       "\n",
       "[505 rows x 4 columns]"
      ]
     },
     "execution_count": 23,
     "metadata": {},
     "output_type": "execute_result"
    }
   ],
   "source": [
    "s = {5 : 'five',1 : 'one'}\n",
    "\n",
    "TEXT.Stars=TEXT.Stars.map(s)\n",
    "TEXT"
   ]
  },
  {
   "cell_type": "code",
   "execution_count": 24,
   "metadata": {},
   "outputs": [
    {
     "name": "stdout",
     "output_type": "stream",
     "text": [
      "<class 'pandas.core.frame.DataFrame'>\n",
      "RangeIndex: 505 entries, 0 to 504\n",
      "Data columns (total 4 columns):\n",
      "Date        505 non-null datetime64[ns]\n",
      "Stars       505 non-null object\n",
      "Reviews     505 non-null object\n",
      "BankName    505 non-null object\n",
      "dtypes: datetime64[ns](1), object(3)\n",
      "memory usage: 15.9+ KB\n"
     ]
    }
   ],
   "source": [
    "TEXT.info()"
   ]
  },
  {
   "cell_type": "code",
   "execution_count": 25,
   "metadata": {},
   "outputs": [
    {
     "data": {
      "text/plain": [
       "(505, 2)"
      ]
     },
     "execution_count": 25,
     "metadata": {},
     "output_type": "execute_result"
    }
   ],
   "source": [
    "# Create a new dataframe with two columns\n",
    "TEXT1 = TEXT[['Stars', 'Reviews']].copy()\n",
    "\n",
    "# Remove missing values (NaN)\n",
    "TEXT1 = TEXT1[pd.notnull(TEXT1['Reviews'])]\n",
    "\n",
    "# Renaming second column for a simpler name\n",
    "TEXT1.columns = ['Stars', 'Reviews'] \n",
    "\n",
    "TEXT1.shape\n"
   ]
  },
  {
   "cell_type": "code",
   "execution_count": 26,
   "metadata": {},
   "outputs": [
    {
     "data": {
      "text/plain": [
       "100.0"
      ]
     },
     "execution_count": 26,
     "metadata": {},
     "output_type": "execute_result"
    }
   ],
   "source": [
    "# Percentage of complaints with text\n",
    "total = TEXT1['Reviews'].notnull().sum()\n",
    "round((total/len(TEXT)*100),1)\n"
   ]
  },
  {
   "cell_type": "code",
   "execution_count": 27,
   "metadata": {},
   "outputs": [
    {
     "data": {
      "text/plain": [
       "array([['five'],\n",
       "       ['one']], dtype=object)"
      ]
     },
     "execution_count": 27,
     "metadata": {},
     "output_type": "execute_result"
    }
   ],
   "source": [
    "pd.DataFrame(TEXT.Stars.unique()).values"
   ]
  },
  {
   "cell_type": "code",
   "execution_count": 28,
   "metadata": {},
   "outputs": [],
   "source": [
    " #Because the computation is time consuming (in terms of CPU), the data was sampled\n",
    "TEXT2 = TEXT1.sample(505, random_state=1).copy()\n"
   ]
  },
  {
   "cell_type": "code",
   "execution_count": 29,
   "metadata": {},
   "outputs": [
    {
     "data": {
      "text/html": [
       "<div>\n",
       "<style scoped>\n",
       "    .dataframe tbody tr th:only-of-type {\n",
       "        vertical-align: middle;\n",
       "    }\n",
       "\n",
       "    .dataframe tbody tr th {\n",
       "        vertical-align: top;\n",
       "    }\n",
       "\n",
       "    .dataframe thead th {\n",
       "        text-align: right;\n",
       "    }\n",
       "</style>\n",
       "<table border=\"1\" class=\"dataframe\">\n",
       "  <thead>\n",
       "    <tr style=\"text-align: right;\">\n",
       "      <th></th>\n",
       "      <th>0</th>\n",
       "    </tr>\n",
       "  </thead>\n",
       "  <tbody>\n",
       "    <tr>\n",
       "      <th>0</th>\n",
       "      <td>five</td>\n",
       "    </tr>\n",
       "    <tr>\n",
       "      <th>1</th>\n",
       "      <td>one</td>\n",
       "    </tr>\n",
       "  </tbody>\n",
       "</table>\n",
       "</div>"
      ],
      "text/plain": [
       "      0\n",
       "0  five\n",
       "1   one"
      ]
     },
     "execution_count": 29,
     "metadata": {},
     "output_type": "execute_result"
    }
   ],
   "source": [
    "pd.DataFrame(TEXT2.Stars.unique())"
   ]
  },
  {
   "cell_type": "code",
   "execution_count": 30,
   "metadata": {},
   "outputs": [
    {
     "data": {
      "text/html": [
       "<div>\n",
       "<style scoped>\n",
       "    .dataframe tbody tr th:only-of-type {\n",
       "        vertical-align: middle;\n",
       "    }\n",
       "\n",
       "    .dataframe tbody tr th {\n",
       "        vertical-align: top;\n",
       "    }\n",
       "\n",
       "    .dataframe thead th {\n",
       "        text-align: right;\n",
       "    }\n",
       "</style>\n",
       "<table border=\"1\" class=\"dataframe\">\n",
       "  <thead>\n",
       "    <tr style=\"text-align: right;\">\n",
       "      <th></th>\n",
       "      <th>Stars</th>\n",
       "      <th>Reviews</th>\n",
       "      <th>rating</th>\n",
       "    </tr>\n",
       "  </thead>\n",
       "  <tbody>\n",
       "    <tr>\n",
       "      <th>307</th>\n",
       "      <td>five</td>\n",
       "      <td>\\r\\nIncredibly responsive and completed the pr...</td>\n",
       "      <td>0</td>\n",
       "    </tr>\n",
       "    <tr>\n",
       "      <th>343</th>\n",
       "      <td>five</td>\n",
       "      <td>\\r\\nWe have bought and sold multiple propertie...</td>\n",
       "      <td>0</td>\n",
       "    </tr>\n",
       "    <tr>\n",
       "      <th>47</th>\n",
       "      <td>one</td>\n",
       "      <td>What a horrible experience. We have excellent ...</td>\n",
       "      <td>1</td>\n",
       "    </tr>\n",
       "    <tr>\n",
       "      <th>67</th>\n",
       "      <td>five</td>\n",
       "      <td>\\r\\nKelly &amp; Rasool were extremely helpful! It ...</td>\n",
       "      <td>0</td>\n",
       "    </tr>\n",
       "    <tr>\n",
       "      <th>361</th>\n",
       "      <td>five</td>\n",
       "      <td>\\r\\nOur last home purchase was a stressful and...</td>\n",
       "      <td>0</td>\n",
       "    </tr>\n",
       "  </tbody>\n",
       "</table>\n",
       "</div>"
      ],
      "text/plain": [
       "    Stars                                            Reviews  rating\n",
       "307  five  \\r\\nIncredibly responsive and completed the pr...       0\n",
       "343  five  \\r\\nWe have bought and sold multiple propertie...       0\n",
       "47    one  What a horrible experience. We have excellent ...       1\n",
       "67   five  \\r\\nKelly & Rasool were extremely helpful! It ...       0\n",
       "361  five  \\r\\nOur last home purchase was a stressful and...       0"
      ]
     },
     "execution_count": 30,
     "metadata": {},
     "output_type": "execute_result"
    }
   ],
   "source": [
    "# Create a new column 'category_id' with encoded categories \n",
    "TEXT2['rating'] = TEXT2['Stars'].factorize()[0]\n",
    "rating_df = TEXT2[['Stars', 'rating']].drop_duplicates()\n",
    "\n",
    "\n",
    "# Dictionaries for future use\n",
    "category_to_rating = dict(rating_df.values)\n",
    "rating_to_category = dict(rating_df[['rating', 'Stars']].values)\n",
    "\n",
    "# New dataframe\n",
    "TEXT2.head()"
   ]
  },
  {
   "cell_type": "code",
   "execution_count": 31,
   "metadata": {},
   "outputs": [
    {
     "data": {
      "text/plain": [
       "Index(['Stars', 'Reviews', 'rating'], dtype='object')"
      ]
     },
     "execution_count": 31,
     "metadata": {},
     "output_type": "execute_result"
    }
   ],
   "source": [
    "TEXT2.columns"
   ]
  },
  {
   "cell_type": "code",
   "execution_count": 32,
   "metadata": {},
   "outputs": [
    {
     "data": {
      "image/png": "[encoded data removed]",
      "text/plain": [
       "<Figure size 576x432 with 1 Axes>"
      ]
     },
     "metadata": {
      "needs_background": "light"
     },
     "output_type": "display_data"
    }
   ],
   "source": [
    "fig = plt.figure(figsize=(8,6))\n",
    "colors = ['grey','grey','grey','grey','grey','grey','grey','grey','grey',\n",
    "    'grey','darkblue','darkblue','darkblue']\n",
    "TEXT2.groupby('Stars').Reviews.count().sort_values().plot.barh(\n",
    "    ylim=0, color=colors, title= 'NUMBER OF COMPLAINTS IN EACH BANK CATEGORY\\n')\n",
    "plt.xlabel('Number of ocurrences', fontsize = 10);\n"
   ]
  },
  {
   "cell_type": "code",
   "execution_count": 33,
   "metadata": {},
   "outputs": [
    {
     "name": "stdout",
     "output_type": "stream",
     "text": [
      "Each of the 505 complaints is represented by 961 features (TF-IDF score of unigrams and bigrams)\n"
     ]
    }
   ],
   "source": [
    "tfidf = TfidfVectorizer(sublinear_tf=True, min_df=5,\n",
    "                        ngram_range=(1, 2), \n",
    "                        stop_words='english')\n",
    "\n",
    "# We transform each Review into a vector\n",
    "features = tfidf.fit_transform(TEXT2.Reviews).toarray()\n",
    "\n",
    "labels = TEXT2.rating\n",
    "\n",
    "print(\"Each of the %d complaints is represented by %d features (TF-IDF score of unigrams and bigrams)\" %(features.shape))"
   ]
  },
  {
   "cell_type": "code",
   "execution_count": 34,
   "metadata": {},
   "outputs": [
    {
     "data": {
      "text/plain": [
       "'# Finding the three most correlated terms with each of the product categories\\nN = 2\\nfor Stars, rating in sorted(category_to_rating.items()):\\n  features_chi2 = chi2(features, labels == rating)\\n  indices = np.argsort(features_chi2[0])\\n  feature_names = np.array(tfidf.get_feature_names())[indices]\\n  unigrams = [v for v in feature_names if len(v.split(\\' \\')) == 1]\\n  bigrams = [v for v in feature_names if len(v.split(\\' \\')) == 2]\\n  print(\"\\n==> %s:\" %(Stars))\\n  print(\"  * Most Correlated Unigrams are: %s\" %(\\', \\'.join(unigrams[-N:])))\\n  print(\"  * Most Correlated Bigrams are: %s\" %(\\', \\'.join(bigrams[-N:])))'"
      ]
     },
     "execution_count": 34,
     "metadata": {},
     "output_type": "execute_result"
    }
   ],
   "source": [
    "'''# Finding the three most correlated terms with each of the product categories\n",
    "N = 2\n",
    "for Stars, rating in sorted(category_to_rating.items()):\n",
    "  features_chi2 = chi2(features, labels == rating)\n",
    "  indices = np.argsort(features_chi2[0])\n",
    "  feature_names = np.array(tfidf.get_feature_names())[indices]\n",
    "  unigrams = [v for v in feature_names if len(v.split(' ')) == 1]\n",
    "  bigrams = [v for v in feature_names if len(v.split(' ')) == 2]\n",
    "  print(\"\\n==> %s:\" %(Stars))\n",
    "  print(\"  * Most Correlated Unigrams are: %s\" %(', '.join(unigrams[-N:])))\n",
    "  print(\"  * Most Correlated Bigrams are: %s\" %(', '.join(bigrams[-N:])))'''"
   ]
  },
  {
   "cell_type": "code",
   "execution_count": 35,
   "metadata": {},
   "outputs": [],
   "source": [
    "X = TEXT2['Reviews'] # Collection of documents\n",
    "y = TEXT2['Stars'] # Target or the labels we want to predict \n",
    "X_train, X_test, y_train, y_test = train_test_split(X, y, test_size=0.3,random_state =42)"
   ]
  },
  {
   "cell_type": "markdown",
   "metadata": {},
   "source": [
    "# Naive Bayes classifier for multinomial models"
   ]
  },
  {
   "cell_type": "code",
   "execution_count": 36,
   "metadata": {},
   "outputs": [
    {
     "data": {
      "image/png": "[encoded data removed]",
      "text/plain": [
       "<Figure size 720x288 with 1 Axes>"
      ]
     },
     "metadata": {
      "needs_background": "light"
     },
     "output_type": "display_data"
    }
   ],
   "source": [
    "my_tags = ['one','five']\n",
    "plt.figure(figsize=(10,4))\n",
    "TEXT.Stars.value_counts().plot(kind='bar');"
   ]
  },
  {
   "cell_type": "code",
   "execution_count": 37,
   "metadata": {},
   "outputs": [
    {
     "data": {
      "text/plain": [
       "Pipeline(memory=None,\n",
       "     steps=[('vect', CountVectorizer(analyzer='word', binary=False, decode_error='strict',\n",
       "        dtype=<class 'numpy.int64'>, encoding='utf-8', input='content',\n",
       "        lowercase=True, max_df=1.0, max_features=None, min_df=1,\n",
       "        ngram_range=(1, 1), preprocessor=None, stop_words=None,\n",
       "        strip...inear_tf=False, use_idf=True)), ('clf', MultinomialNB(alpha=1.0, class_prior=None, fit_prior=True))])"
      ]
     },
     "execution_count": 37,
     "metadata": {},
     "output_type": "execute_result"
    }
   ],
   "source": [
    "from sklearn.naive_bayes import MultinomialNB\n",
    "from sklearn.pipeline import Pipeline\n",
    "from sklearn.feature_extraction.text import TfidfTransformer\n",
    "\n",
    "nb = Pipeline([('vect', CountVectorizer()),\n",
    "               ('tfidf', TfidfTransformer()),\n",
    "               ('clf', MultinomialNB()),\n",
    "              ])\n",
    "nb.fit(X_train, y_train)"
   ]
  },
  {
   "cell_type": "code",
   "execution_count": 38,
   "metadata": {},
   "outputs": [
    {
     "name": "stdout",
     "output_type": "stream",
     "text": [
      "accuracy 0.8223684210526315\n",
      "              precision    recall  f1-score   support\n",
      "\n",
      "         one       0.82      1.00      0.90       125\n",
      "        five       0.00      0.00      0.00        27\n",
      "\n",
      "   micro avg       0.82      0.82      0.82       152\n",
      "   macro avg       0.41      0.50      0.45       152\n",
      "weighted avg       0.68      0.82      0.74       152\n",
      "\n",
      "Wall time: 35.9 ms\n"
     ]
    }
   ],
   "source": [
    "%%time\n",
    "from sklearn.metrics import classification_report\n",
    "y_pred = nb.predict(X_test)\n",
    "\n",
    "print('accuracy %s' % accuracy_score(y_pred, y_test))\n",
    "print(classification_report(y_test, y_pred,target_names=my_tags ))"
   ]
  },
  {
   "cell_type": "markdown",
   "metadata": {},
   "source": [
    "# SGDClassifier"
   ]
  },
  {
   "cell_type": "code",
   "execution_count": 39,
   "metadata": {},
   "outputs": [
    {
     "data": {
      "text/plain": [
       "Pipeline(memory=None,\n",
       "     steps=[('vect', CountVectorizer(analyzer='word', binary=False, decode_error='strict',\n",
       "        dtype=<class 'numpy.int64'>, encoding='utf-8', input='content',\n",
       "        lowercase=True, max_df=1.0, max_features=None, min_df=1,\n",
       "        ngram_range=(1, 1), preprocessor=None, stop_words=None,\n",
       "        strip...dom_state=42, shuffle=True, tol=None,\n",
       "       validation_fraction=0.1, verbose=0, warm_start=False))])"
      ]
     },
     "execution_count": 39,
     "metadata": {},
     "output_type": "execute_result"
    }
   ],
   "source": [
    "from sklearn.linear_model import SGDClassifier\n",
    "\n",
    "sgd = Pipeline([('vect', CountVectorizer()),\n",
    "                ('tfidf', TfidfTransformer()),\n",
    "                ('clf', SGDClassifier(loss='hinge', penalty='l2',alpha=1e-3, random_state=42, max_iter=5, tol=None)),\n",
    "               ])\n",
    "sgd.fit(X_train, y_train)"
   ]
  },
  {
   "cell_type": "code",
   "execution_count": 40,
   "metadata": {},
   "outputs": [
    {
     "name": "stdout",
     "output_type": "stream",
     "text": [
      "accuracy 0.9868421052631579\n",
      "              precision    recall  f1-score   support\n",
      "\n",
      "         one       0.98      1.00      0.99       125\n",
      "        five       1.00      0.93      0.96        27\n",
      "\n",
      "   micro avg       0.99      0.99      0.99       152\n",
      "   macro avg       0.99      0.96      0.98       152\n",
      "weighted avg       0.99      0.99      0.99       152\n",
      "\n",
      "Wall time: 29 ms\n"
     ]
    }
   ],
   "source": [
    "%%time\n",
    "\n",
    "y_pred = sgd.predict(X_test)\n",
    "\n",
    "print('accuracy %s' % accuracy_score(y_pred, y_test))\n",
    "print(classification_report(y_test, y_pred,target_names=my_tags))"
   ]
  },
  {
   "cell_type": "markdown",
   "metadata": {},
   "source": [
    "# Logistic regression"
   ]
  },
  {
   "cell_type": "code",
   "execution_count": 41,
   "metadata": {},
   "outputs": [
    {
     "data": {
      "text/plain": [
       "Pipeline(memory=None,\n",
       "     steps=[('vect', CountVectorizer(analyzer='word', binary=False, decode_error='strict',\n",
       "        dtype=<class 'numpy.int64'>, encoding='utf-8', input='content',\n",
       "        lowercase=True, max_df=1.0, max_features=None, min_df=1,\n",
       "        ngram_range=(1, 1), preprocessor=None, stop_words=None,\n",
       "        strip...penalty='l2', random_state=None,\n",
       "          solver='warn', tol=0.0001, verbose=0, warm_start=False))])"
      ]
     },
     "execution_count": 41,
     "metadata": {},
     "output_type": "execute_result"
    }
   ],
   "source": [
    "from sklearn.linear_model import LogisticRegression\n",
    "\n",
    "logreg = Pipeline([('vect', CountVectorizer()),\n",
    "                ('tfidf', TfidfTransformer()),\n",
    "                ('clf', LogisticRegression(n_jobs=1, C=1e5)),\n",
    "               ])\n",
    "logreg.fit(X_train, y_train)"
   ]
  },
  {
   "cell_type": "code",
   "execution_count": 42,
   "metadata": {},
   "outputs": [
    {
     "name": "stdout",
     "output_type": "stream",
     "text": [
      "accuracy 0.9736842105263158\n",
      "              precision    recall  f1-score   support\n",
      "\n",
      "         one       0.97      1.00      0.98       125\n",
      "        five       1.00      0.85      0.92        27\n",
      "\n",
      "   micro avg       0.97      0.97      0.97       152\n",
      "   macro avg       0.98      0.93      0.95       152\n",
      "weighted avg       0.97      0.97      0.97       152\n",
      "\n",
      "Wall time: 21.9 ms\n"
     ]
    }
   ],
   "source": [
    "%%time\n",
    "\n",
    "y_pred = logreg.predict(X_test)\n",
    "\n",
    "print('accuracy %s' % accuracy_score(y_pred, y_test))\n",
    "print(classification_report(y_test, y_pred,target_names=my_tags))"
   ]
  },
  {
   "cell_type": "markdown",
   "metadata": {},
   "source": [
    "# BOW with keras"
   ]
  },
  {
   "cell_type": "code",
   "execution_count": 43,
   "metadata": {},
   "outputs": [],
   "source": [
    "import itertools\n",
    "import os\n",
    "\n",
    "%matplotlib inline\n",
    "import matplotlib.pyplot as plt\n",
    "import numpy as np\n",
    "import pandas as pd\n",
    "import tensorflow as tf\n",
    "\n",
    "from sklearn.preprocessing import LabelBinarizer, LabelEncoder\n",
    "from sklearn.metrics import confusion_matrix\n",
    "\n",
    "from tensorflow import keras\n",
    "from keras.models import Sequential\n",
    "from keras.layers import Dense, Activation, Dropout\n",
    "from keras.preprocessing import text, sequence\n",
    "from keras import utils"
   ]
  },
  {
   "cell_type": "code",
   "execution_count": 44,
   "metadata": {},
   "outputs": [
    {
     "name": "stdout",
     "output_type": "stream",
     "text": [
      "Train size: 353\n",
      "Test size: 152\n"
     ]
    }
   ],
   "source": [
    "train_size = int(len(TEXT) * .7)\n",
    "print (\"Train size: %d\" % train_size)\n",
    "print (\"Test size: %d\" % (len(TEXT) - train_size))"
   ]
  },
  {
   "cell_type": "code",
   "execution_count": 45,
   "metadata": {},
   "outputs": [],
   "source": [
    "train_posts = TEXT['Reviews'][:train_size]\n",
    "train_tags = TEXT['Stars'][:train_size]\n",
    "\n",
    "test_posts = TEXT['Reviews'][train_size:]\n",
    "test_tags = TEXT['Stars'][train_size:]"
   ]
  },
  {
   "cell_type": "code",
   "execution_count": 46,
   "metadata": {},
   "outputs": [],
   "source": [
    "max_words = 1000\n",
    "tokenize = text.Tokenizer(num_words=max_words, char_level=False)"
   ]
  },
  {
   "cell_type": "code",
   "execution_count": 47,
   "metadata": {},
   "outputs": [],
   "source": [
    "tokenize.fit_on_texts(train_posts) # only fit on train\n",
    "x_train = tokenize.texts_to_matrix(train_posts)\n",
    "x_test = tokenize.texts_to_matrix(test_posts)"
   ]
  },
  {
   "cell_type": "code",
   "execution_count": 48,
   "metadata": {},
   "outputs": [],
   "source": [
    "encoder = LabelEncoder()\n",
    "encoder.fit(train_tags)\n",
    "y_train = encoder.transform(train_tags)\n",
    "y_test = encoder.transform(test_tags)"
   ]
  },
  {
   "cell_type": "code",
   "execution_count": 49,
   "metadata": {},
   "outputs": [],
   "source": [
    "num_classes = np.max(y_train) + 1\n",
    "y_train = utils.to_categorical(y_train, num_classes)\n",
    "y_test = utils.to_categorical(y_test, num_classes)"
   ]
  },
  {
   "cell_type": "code",
   "execution_count": 50,
   "metadata": {},
   "outputs": [
    {
     "name": "stdout",
     "output_type": "stream",
     "text": [
      "x_train shape: (353, 1000)\n",
      "x_test shape: (152, 1000)\n",
      "y_train shape: (353, 2)\n",
      "y_test shape: (152, 2)\n"
     ]
    }
   ],
   "source": [
    "print('x_train shape:', x_train.shape)\n",
    "print('x_test shape:', x_test.shape)\n",
    "print('y_train shape:', y_train.shape)\n",
    "print('y_test shape:', y_test.shape)"
   ]
  },
  {
   "cell_type": "code",
   "execution_count": 51,
   "metadata": {},
   "outputs": [],
   "source": [
    "batch_size = 32\n",
    "epochs = 2"
   ]
  },
  {
   "cell_type": "code",
   "execution_count": 52,
   "metadata": {},
   "outputs": [],
   "source": [
    "# Build the model\n",
    "model = Sequential()\n",
    "model.add(Dense(512, input_shape=(max_words,)))\n",
    "model.add(Activation('relu'))\n",
    "model.add(Dropout(0.5))\n",
    "model.add(Dense(num_classes))\n",
    "model.add(Activation('softmax'))\n",
    "\n",
    "model.compile(loss='categorical_crossentropy',\n",
    "              optimizer='adam',\n",
    "              metrics=['accuracy'])"
   ]
  },
  {
   "cell_type": "code",
   "execution_count": 53,
   "metadata": {},
   "outputs": [
    {
     "name": "stderr",
     "output_type": "stream",
     "text": [
      "W1219 18:08:55.675293  5712 deprecation_wrapper.py:119] From C:\\Users\\RAMKUMAR\\Documents\\Python Scripts\\lib\\site-packages\\keras\\backend\\tensorflow_backend.py:422: The name tf.global_variables is deprecated. Please use tf.compat.v1.global_variables instead.\n",
      "\n"
     ]
    },
    {
     "name": "stdout",
     "output_type": "stream",
     "text": [
      "Train on 317 samples, validate on 36 samples\n",
      "Epoch 1/2\n",
      "317/317 [==============================] - 0s 1ms/step - loss: 0.4998 - accuracy: 0.7981 - val_loss: 0.1307 - val_accuracy: 1.0000\n",
      "Epoch 2/2\n",
      "317/317 [==============================] - 0s 454us/step - loss: 0.2006 - accuracy: 0.9558 - val_loss: 0.0923 - val_accuracy: 1.0000\n"
     ]
    }
   ],
   "source": [
    "history = model.fit(x_train, y_train,\n",
    "                    batch_size=batch_size,\n",
    "                    epochs=epochs,\n",
    "                    verbose=1,\n",
    "                    validation_split=0.1)"
   ]
  },
  {
   "cell_type": "code",
   "execution_count": 54,
   "metadata": {},
   "outputs": [
    {
     "name": "stdout",
     "output_type": "stream",
     "text": [
      "152/152 [==============================] - 0s 118us/step\n",
      "Test accuracy: 0.9210526347160339\n"
     ]
    }
   ],
   "source": [
    "score = model.evaluate(x_test, y_test,\n",
    "                       batch_size=batch_size, verbose=1)\n",
    "print('Test accuracy:', score[1])"
   ]
  },
  {
   "cell_type": "markdown",
   "metadata": {},
   "source": [
    "# RandomForestClassifier"
   ]
  },
  {
   "cell_type": "code",
   "execution_count": 55,
   "metadata": {},
   "outputs": [],
   "source": [
    "import statsmodels.formula.api as sm\n",
    "import sklearn.metrics as metrics"
   ]
  },
  {
   "cell_type": "code",
   "execution_count": 56,
   "metadata": {},
   "outputs": [],
   "source": [
    "models = [\n",
    "    RandomForestClassifier(n_estimators=100, max_depth=5, random_state=0),\n",
    "    LinearSVC(),\n",
    "    MultinomialNB(),\n",
    "    LogisticRegression(random_state=0),\n",
    "]\n",
    "\n",
    "# 5 Cross-validation\n",
    "CV = 5\n",
    "cv_df = pd.DataFrame(index=range(CV * len(models)))\n",
    "\n",
    "entries = []\n",
    "for model in models:\n",
    "  model_name = model.__class__.__name__\n",
    "  accuracies = cross_val_score(model, features, labels, scoring='accuracy', cv=CV)\n",
    "  for fold_idx, accuracy in enumerate(accuracies):\n",
    "    entries.append((model_name, fold_idx, accuracy))\n",
    "    \n",
    "cv_df = pd.DataFrame(entries, columns=['model_name', 'fold_idx', 'accuracy'])\n"
   ]
  },
  {
   "cell_type": "code",
   "execution_count": 57,
   "metadata": {},
   "outputs": [
    {
     "data": {
      "text/html": [
       "<div>\n",
       "<style scoped>\n",
       "    .dataframe tbody tr th:only-of-type {\n",
       "        vertical-align: middle;\n",
       "    }\n",
       "\n",
       "    .dataframe tbody tr th {\n",
       "        vertical-align: top;\n",
       "    }\n",
       "\n",
       "    .dataframe thead th {\n",
       "        text-align: right;\n",
       "    }\n",
       "</style>\n",
       "<table border=\"1\" class=\"dataframe\">\n",
       "  <thead>\n",
       "    <tr style=\"text-align: right;\">\n",
       "      <th></th>\n",
       "      <th>Mean Accuracy</th>\n",
       "      <th>Standard deviation</th>\n",
       "    </tr>\n",
       "    <tr>\n",
       "      <th>model_name</th>\n",
       "      <th></th>\n",
       "      <th></th>\n",
       "    </tr>\n",
       "  </thead>\n",
       "  <tbody>\n",
       "    <tr>\n",
       "      <th>LinearSVC</th>\n",
       "      <td>0.950495</td>\n",
       "      <td>0.017149</td>\n",
       "    </tr>\n",
       "    <tr>\n",
       "      <th>LogisticRegression</th>\n",
       "      <td>0.883168</td>\n",
       "      <td>0.012909</td>\n",
       "    </tr>\n",
       "    <tr>\n",
       "      <th>MultinomialNB</th>\n",
       "      <td>0.928713</td>\n",
       "      <td>0.012909</td>\n",
       "    </tr>\n",
       "    <tr>\n",
       "      <th>RandomForestClassifier</th>\n",
       "      <td>0.865347</td>\n",
       "      <td>0.020531</td>\n",
       "    </tr>\n",
       "  </tbody>\n",
       "</table>\n",
       "</div>"
      ],
      "text/plain": [
       "                        Mean Accuracy  Standard deviation\n",
       "model_name                                               \n",
       "LinearSVC                    0.950495            0.017149\n",
       "LogisticRegression           0.883168            0.012909\n",
       "MultinomialNB                0.928713            0.012909\n",
       "RandomForestClassifier       0.865347            0.020531"
      ]
     },
     "execution_count": 57,
     "metadata": {},
     "output_type": "execute_result"
    }
   ],
   "source": [
    "mean_accuracy = cv_df.groupby('model_name').accuracy.mean()\n",
    "std_accuracy = cv_df.groupby('model_name').accuracy.std()\n",
    "\n",
    "acc = pd.concat([mean_accuracy, std_accuracy], axis= 1, \n",
    "          ignore_index=True)\n",
    "acc.columns = ['Mean Accuracy', 'Standard deviation']\n",
    "acc\n"
   ]
  },
  {
   "cell_type": "code",
   "execution_count": 58,
   "metadata": {},
   "outputs": [
    {
     "data": {
      "image/png": "[encoded data removed]",
      "text/plain": [
       "<Figure size 576x360 with 1 Axes>"
      ]
     },
     "metadata": {
      "needs_background": "light"
     },
     "output_type": "display_data"
    }
   ],
   "source": [
    "plt.figure(figsize=(8,5))\n",
    "sns.boxplot(x='model_name', y='accuracy', \n",
    "            data=cv_df, \n",
    "            color='lightblue', \n",
    "            showmeans=True)\n",
    "plt.title(\"MEAN ACCURACY (cv = 5)\\n\", size=14);"
   ]
  },
  {
   "cell_type": "markdown",
   "metadata": {},
   "source": [
    "# LinearSVC"
   ]
  },
  {
   "cell_type": "code",
   "execution_count": 59,
   "metadata": {},
   "outputs": [],
   "source": [
    "X_train, X_test, y_train, y_test,indices_train,indices_test = train_test_split(features, labels, TEXT2.index, test_size=0.25, random_state=1)\n",
    "model = LinearSVC()\n",
    "model.fit(X_train, y_train)\n",
    "y_pred = model.predict(X_test)"
   ]
  },
  {
   "cell_type": "code",
   "execution_count": 60,
   "metadata": {},
   "outputs": [
    {
     "name": "stdout",
     "output_type": "stream",
     "text": [
      "\t\t\t\tCLASSIFICATION METRICS\n",
      "\n",
      "              precision    recall  f1-score   support\n",
      "\n",
      "        five       0.93      0.99      0.96       100\n",
      "         one       0.95      0.70      0.81        27\n",
      "\n",
      "   micro avg       0.93      0.93      0.93       127\n",
      "   macro avg       0.94      0.85      0.88       127\n",
      "weighted avg       0.93      0.93      0.93       127\n",
      "\n"
     ]
    }
   ],
   "source": [
    "# Classification report\n",
    "print('\\t\\t\\t\\tCLASSIFICATION METRICS\\n')\n",
    "print(metrics.classification_report(y_test, y_pred, \n",
    "                                    target_names= TEXT2['Stars'].unique()))"
   ]
  },
  {
   "cell_type": "code",
   "execution_count": 61,
   "metadata": {},
   "outputs": [
    {
     "data": {
      "image/png": "[encoded data removed]",
      "text/plain": [
       "<Figure size 576x576 with 2 Axes>"
      ]
     },
     "metadata": {
      "needs_background": "light"
     },
     "output_type": "display_data"
    }
   ],
   "source": [
    "conf_mat = confusion_matrix(y_test, y_pred)\n",
    "fig, ax = plt.subplots(figsize=(8,8))\n",
    "sns.heatmap(conf_mat, annot=True, cmap=\"Blues\", fmt='d',\n",
    "            xticklabels=rating_df.Stars.values, \n",
    "            yticklabels=rating_df.Stars.values)\n",
    "plt.ylabel('Actual')\n",
    "plt.xlabel('Predicted')\n",
    "plt.title(\"CONFUSION MATRIX - LinearSVC\\n\", size=16);"
   ]
  },
  {
   "cell_type": "code",
   "execution_count": 62,
   "metadata": {
    "scrolled": false
   },
   "outputs": [
    {
     "name": "stdout",
     "output_type": "stream",
     "text": [
      "'one' predicted as 'five' : 8 examples.\n"
     ]
    },
    {
     "data": {
      "text/html": [
       "<div>\n",
       "<style scoped>\n",
       "    .dataframe tbody tr th:only-of-type {\n",
       "        vertical-align: middle;\n",
       "    }\n",
       "\n",
       "    .dataframe tbody tr th {\n",
       "        vertical-align: top;\n",
       "    }\n",
       "\n",
       "    .dataframe thead th {\n",
       "        text-align: right;\n",
       "    }\n",
       "</style>\n",
       "<table border=\"1\" class=\"dataframe\">\n",
       "  <thead>\n",
       "    <tr style=\"text-align: right;\">\n",
       "      <th></th>\n",
       "      <th>Stars</th>\n",
       "      <th>Reviews</th>\n",
       "    </tr>\n",
       "  </thead>\n",
       "  <tbody>\n",
       "    <tr>\n",
       "      <th>411</th>\n",
       "      <td>one</td>\n",
       "      <td>\\r\\nAweful experience in terms of service, fol...</td>\n",
       "    </tr>\n",
       "    <tr>\n",
       "      <th>405</th>\n",
       "      <td>one</td>\n",
       "      <td>\\r\\nUnfortunately we were dealing with an agen...</td>\n",
       "    </tr>\n",
       "    <tr>\n",
       "      <th>155</th>\n",
       "      <td>one</td>\n",
       "      <td>\\r\\nI am writing this review to share what end...</td>\n",
       "    </tr>\n",
       "    <tr>\n",
       "      <th>401</th>\n",
       "      <td>one</td>\n",
       "      <td>\\r\\nbad\\r\\n</td>\n",
       "    </tr>\n",
       "    <tr>\n",
       "      <th>18</th>\n",
       "      <td>one</td>\n",
       "      <td>A good rate but a very frustrating process, co...</td>\n",
       "    </tr>\n",
       "    <tr>\n",
       "      <th>98</th>\n",
       "      <td>one</td>\n",
       "      <td>\\r\\nBased on results I have to give 1 star. My...</td>\n",
       "    </tr>\n",
       "    <tr>\n",
       "      <th>403</th>\n",
       "      <td>one</td>\n",
       "      <td>\\r\\nAt the end of the 35 day period, we were a...</td>\n",
       "    </tr>\n",
       "    <tr>\n",
       "      <th>97</th>\n",
       "      <td>one</td>\n",
       "      <td>\\r\\nPerson with whom I spoke kept interrupting...</td>\n",
       "    </tr>\n",
       "  </tbody>\n",
       "</table>\n",
       "</div>"
      ],
      "text/plain": [
       "    Stars                                            Reviews\n",
       "411   one  \\r\\nAweful experience in terms of service, fol...\n",
       "405   one  \\r\\nUnfortunately we were dealing with an agen...\n",
       "155   one  \\r\\nI am writing this review to share what end...\n",
       "401   one                                \\r\\nbad\\r\\n        \n",
       "18    one  A good rate but a very frustrating process, co...\n",
       "98    one  \\r\\nBased on results I have to give 1 star. My...\n",
       "403   one  \\r\\nAt the end of the 35 day period, we were a...\n",
       "97    one  \\r\\nPerson with whom I spoke kept interrupting..."
      ]
     },
     "metadata": {},
     "output_type": "display_data"
    },
    {
     "name": "stdout",
     "output_type": "stream",
     "text": [
      "\n",
      "'five' predicted as 'one' : 1 examples.\n"
     ]
    },
    {
     "data": {
      "text/html": [
       "<div>\n",
       "<style scoped>\n",
       "    .dataframe tbody tr th:only-of-type {\n",
       "        vertical-align: middle;\n",
       "    }\n",
       "\n",
       "    .dataframe tbody tr th {\n",
       "        vertical-align: top;\n",
       "    }\n",
       "\n",
       "    .dataframe thead th {\n",
       "        text-align: right;\n",
       "    }\n",
       "</style>\n",
       "<table border=\"1\" class=\"dataframe\">\n",
       "  <thead>\n",
       "    <tr style=\"text-align: right;\">\n",
       "      <th></th>\n",
       "      <th>Stars</th>\n",
       "      <th>Reviews</th>\n",
       "    </tr>\n",
       "  </thead>\n",
       "  <tbody>\n",
       "    <tr>\n",
       "      <th>16</th>\n",
       "      <td>five</td>\n",
       "      <td>The salesperson kept pushing a cash out refi o...</td>\n",
       "    </tr>\n",
       "  </tbody>\n",
       "</table>\n",
       "</div>"
      ],
      "text/plain": [
       "   Stars                                            Reviews\n",
       "16  five  The salesperson kept pushing a cash out refi o..."
      ]
     },
     "metadata": {},
     "output_type": "display_data"
    },
    {
     "name": "stdout",
     "output_type": "stream",
     "text": [
      "\n"
     ]
    }
   ],
   "source": [
    "for predicted in rating_df.rating:\n",
    "  for actual in rating_df.rating:\n",
    "    if predicted != actual and conf_mat[actual, predicted] >= 1:\n",
    "      print(\"'{}' predicted as '{}' : {} examples.\".format(rating_to_category[actual], \n",
    "                                                           rating_to_category[predicted], \n",
    "                                                           conf_mat[actual, predicted]))\n",
    "    \n",
    "      display(TEXT2.loc[indices_test[(y_test == actual) & (y_pred == predicted)]][['Stars', \n",
    "                                                                'Reviews']])\n",
    "      print('')"
   ]
  },
  {
   "cell_type": "code",
   "execution_count": 63,
   "metadata": {},
   "outputs": [
    {
     "name": "stdout",
     "output_type": "stream",
     "text": [
      "\n",
      "==> 'five':\n",
      "  * Top unigrams: 10\n",
      "  * Top bigrams: \n",
      "\n",
      "==> 'one':\n",
      "  * Top unigrams: 10\n",
      "  * Top bigrams: \n"
     ]
    }
   ],
   "source": [
    "model.fit(features, labels)\n",
    "\n",
    "N = 4\n",
    "for Stars, id in sorted(category_to_rating.items()):\n",
    "  indices = np.argsort(model.coef_[0][id])\n",
    "  feature_names = np.array(tfidf.get_feature_names())[indices]\n",
    "  unigrams = [v for v in reversed(feature_names) if len(v.split(' ')) == 1][:N]\n",
    "  bigrams = [v for v in reversed(feature_names) if len(v.split(' ')) == 2][:N]\n",
    "  print(\"\\n==> '{}':\".format(Stars))\n",
    "  print(\"  * Top unigrams: %s\" %(', '.join(unigrams)))\n",
    "  print(\"  * Top bigrams: %s\" %(', '.join(bigrams)))"
   ]
  },
  {
   "cell_type": "code",
   "execution_count": 64,
   "metadata": {},
   "outputs": [],
   "source": [
    "X_train, X_test, y_train, y_test = train_test_split(X, y, \n",
    "                                                    test_size=0.25,\n",
    "                                                    random_state = 0)\n",
    "\n",
    "tfidf = TfidfVectorizer(sublinear_tf=True, min_df=5,\n",
    "                        ngram_range=(1, 2), \n",
    "                        stop_words='english')\n",
    "\n",
    "fitted_vectorizer = tfidf.fit(X_train)\n",
    "tfidf_vectorizer_vectors = fitted_vectorizer.transform(X_train)\n",
    "\n",
    "model = LinearSVC().fit(tfidf_vectorizer_vectors, y_train)"
   ]
  }
 ],
 "metadata": {
  "kernelspec": {
   "display_name": "Python 3",
   "language": "python",
   "name": "python3"
  },
  "language_info": {
   "codemirror_mode": {
    "name": "ipython",
    "version": 3
   },
   "file_extension": ".py",
   "mimetype": "text/x-python",
   "name": "python",
   "nbconvert_exporter": "python",
   "pygments_lexer": "ipython3",
   "version": "3.7.3"
  }
 },
 "nbformat": 4,
 "nbformat_minor": 2
}
